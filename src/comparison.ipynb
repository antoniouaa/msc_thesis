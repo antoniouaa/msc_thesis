{
 "metadata": {
  "language_info": {
   "codemirror_mode": {
    "name": "ipython",
    "version": 3
   },
   "file_extension": ".py",
   "mimetype": "text/x-python",
   "name": "python",
   "nbconvert_exporter": "python",
   "pygments_lexer": "ipython3",
   "version": "3.7.6-final"
  },
  "orig_nbformat": 2,
  "kernelspec": {
   "name": "python_defaultSpec_1597535178054",
   "display_name": "Python 3.7.6 64-bit ('venv': venv)"
  }
 },
 "nbformat": 4,
 "nbformat_minor": 2,
 "cells": [
  {
   "cell_type": "code",
   "execution_count": 8,
   "metadata": {},
   "outputs": [],
   "source": [
    "import pandas as pd \n",
    "import numpy as np \n",
    "\n",
    "lstm = pd.read_csv(\"lstm\\\\scores_lstm.csv\", header=0)\n",
    "arima = pd.read_csv(\"lstm\\\\scores_arima.csv\", header=0)"
   ]
  },
  {
   "cell_type": "code",
   "execution_count": 9,
   "metadata": {
    "tags": []
   },
   "outputs": [
    {
     "output_type": "stream",
     "name": "stdout",
     "text": "LSTM mean: 0.013100125861664614\nARIMA mean: 0.017046902643525777\n"
    }
   ],
   "source": [
    "lstm_avg = np.mean(lstm[\"mae\"])\n",
    "arima_avg = np.mean(arima[\"mae\"])\n",
    "print(f\"LSTM mean: {lstm_avg}\\nARIMA mean: {arima_avg}\")"
   ]
  },
  {
   "cell_type": "code",
   "execution_count": 10,
   "metadata": {
    "tags": []
   },
   "outputs": [
    {
     "output_type": "stream",
     "name": "stdout",
     "text": "LSTM mean: 0.0003316967689897865\nARIMA mean: 0.0005229507475626473\n"
    }
   ],
   "source": [
    "lstm_avg = np.mean(lstm[\"mse\"])\n",
    "arima_avg = np.mean(arima[\"mse\"])\n",
    "print(f\"LSTM mean: {lstm_avg}\\nARIMA mean: {arima_avg}\")"
   ]
  },
  {
   "cell_type": "code",
   "execution_count": null,
   "metadata": {},
   "outputs": [],
   "source": []
  }
 ]
}