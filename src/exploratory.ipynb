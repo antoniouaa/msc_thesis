{
 "cells": [
  {
   "cell_type": "code",
   "execution_count": 1,
   "metadata": {},
   "outputs": [],
   "source": [
    "import pandas as pd\n",
    "from os import getcwd, path, listdir, chdir\n",
    "\n",
    "TICKER_PATH = \"data\\\\tickers\\\\ticker_data\""
   ]
  },
  {
   "cell_type": "code",
   "execution_count": 3,
   "metadata": {},
   "outputs": [],
   "source": [
    "def grab_all_tickers():\n",
    "    chdir(f\"..\\{TICKER_PATH}\")\n",
    "    current_dir = getcwd()\n",
    "    files = [f for f in listdir(current_dir) if path.isfile(path.join(current_dir, f))]\n",
    "    return files"
   ]
  },
  {
   "cell_type": "code",
   "execution_count": 4,
   "metadata": {},
   "outputs": [],
   "source": [
    "def calc_moving_averages(df, window=14):\n",
    "    df_new = df[[\"close\", \"high\", \"low\", \"open\", \"volume\"]]\n",
    "\n",
    "    df_ma = df.rolling(window=14).mean()[\"open\"]\n",
    "    df_std = df.rolling(window=14).std()[\"open\"]\n",
    "\n",
    "    final_df = df_new.copy()\n",
    "    final_df[\"Rolling Mean\"] = df_ma\n",
    "    final_df[\"Rolling STDDEV\"] = df_std\n",
    "    return final_df"
   ]
  },
  {
   "cell_type": "code",
   "execution_count": 5,
   "metadata": {},
   "outputs": [],
   "source": [
    "tickers = grab_all_tickers()\n",
    "for ticker in tickers:\n",
    "    temp_df = pd.read_csv(ticker, parse_dates=True, header=0)\n",
    "    final_df = calc_moving_averages(temp_df)\n",
    "    final_df.to_csv(f\"MA_{ticker}\", sep=\",\", index=False, header=final_df.columns)"
   ]
  },
  {
   "cell_type": "code",
   "execution_count": null,
   "metadata": {},
   "outputs": [],
   "source": []
  }
 ],
 "metadata": {
  "kernelspec": {
   "display_name": "Python 3",
   "language": "python",
   "name": "python3"
  },
  "language_info": {
   "codemirror_mode": {
    "name": "ipython",
    "version": 3
   },
   "file_extension": ".py",
   "mimetype": "text/x-python",
   "name": "python",
   "nbconvert_exporter": "python",
   "pygments_lexer": "ipython3",
   "version": "3.7.6-final"
  }
 },
 "nbformat": 4,
 "nbformat_minor": 4
}