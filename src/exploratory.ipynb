{
 "cells": [
  {
   "cell_type": "code",
   "execution_count": 1,
   "metadata": {},
   "outputs": [
    {
     "output_type": "stream",
     "name": "stdout",
     "text": "c:\\Users\\anton\\Documents\\antoniouaa\\msc_thesis\\data\\tickers\\ticker_data\n"
    }
   ],
   "source": [
    "import pandas as pd\n",
    "import os\n",
    "\n",
    "os.chdir(\"../data/tickers/ticker_data\")\n",
    "print(os.getcwd())\n",
    "columns = [\"adjClose\", \"adjHigh\", \"adjLow\", \"adjOpen\", \"adjVolume\", \"close\", \"date\", \"divCash\", \"high\", \"low\", \"open\", \"splitFactor\", \"volume\"]"
   ]
  },
  {
   "cell_type": "code",
   "execution_count": 4,
   "metadata": {},
   "outputs": [
    {
     "output_type": "execute_result",
     "data": {
      "text/plain": "                         date  close   high    low   open  volume   adjClose  \\\n0    2018-01-01T00:00:00.000Z  33.88  33.88  33.88  33.88       0  32.939316   \n1    2018-01-02T00:00:00.000Z  34.65  34.78  33.78  33.80  770080  33.687937   \n2    2018-01-03T00:00:00.000Z  35.26  35.68  34.40  34.83  995280  34.281000   \n3    2018-01-04T00:00:00.000Z  34.96  35.33  34.86  35.16  666590  33.989330   \n4    2018-01-05T00:00:00.000Z  35.04  35.24  34.69  34.69  473460  34.067108   \n..                        ...    ...    ...    ...    ...     ...        ...   \n235  2018-11-26T00:00:00.000Z  25.81  26.20  25.16  25.40  682120  25.446809   \n236  2018-11-27T00:00:00.000Z  26.20  26.46  25.82  26.06  470680  25.831321   \n237  2018-11-28T00:00:00.000Z  26.39  26.80  26.00  26.32  380700  26.018647   \n238  2018-11-29T00:00:00.000Z  26.60  27.40  26.39  26.39  788370  26.225692   \n239  2018-11-30T00:00:00.000Z  26.16  26.94  25.86  26.22  583340  25.791884   \n\n       adjHigh     adjLow    adjOpen  adjVolume  divCash  splitFactor  \n0    32.939316  32.939316  32.939316          0      0.0          1.0  \n1    33.814327  32.842093  32.861537     770080      0.0          1.0  \n2    34.689339  33.444878  33.862939     995280      0.0          1.0  \n3    34.349057  33.892106  34.183777     666590      0.0          1.0  \n4    34.261555  33.726826  33.726826     473460      0.0          1.0  \n..         ...        ...        ...        ...      ...          ...  \n235  25.831321  24.805956  25.042578     682120      0.0          1.0  \n236  26.087662  25.456668  25.693291     470680      0.0          1.0  \n237  26.422878  25.634135  25.949632     380700      0.0          1.0  \n238  27.014435  26.018647  26.018647     788370      0.0          1.0  \n239  26.560908  25.496105  25.851039     583340      0.0          1.0  \n\n[240 rows x 13 columns]",
      "text/html": "<div>\n<style scoped>\n    .dataframe tbody tr th:only-of-type {\n        vertical-align: middle;\n    }\n\n    .dataframe tbody tr th {\n        vertical-align: top;\n    }\n\n    .dataframe thead th {\n        text-align: right;\n    }\n</style>\n<table border=\"1\" class=\"dataframe\">\n  <thead>\n    <tr style=\"text-align: right;\">\n      <th></th>\n      <th>date</th>\n      <th>close</th>\n      <th>high</th>\n      <th>low</th>\n      <th>open</th>\n      <th>volume</th>\n      <th>adjClose</th>\n      <th>adjHigh</th>\n      <th>adjLow</th>\n      <th>adjOpen</th>\n      <th>adjVolume</th>\n      <th>divCash</th>\n      <th>splitFactor</th>\n    </tr>\n  </thead>\n  <tbody>\n    <tr>\n      <th>0</th>\n      <td>2018-01-01T00:00:00.000Z</td>\n      <td>33.88</td>\n      <td>33.88</td>\n      <td>33.88</td>\n      <td>33.88</td>\n      <td>0</td>\n      <td>32.939316</td>\n      <td>32.939316</td>\n      <td>32.939316</td>\n      <td>32.939316</td>\n      <td>0</td>\n      <td>0.0</td>\n      <td>1.0</td>\n    </tr>\n    <tr>\n      <th>1</th>\n      <td>2018-01-02T00:00:00.000Z</td>\n      <td>34.65</td>\n      <td>34.78</td>\n      <td>33.78</td>\n      <td>33.80</td>\n      <td>770080</td>\n      <td>33.687937</td>\n      <td>33.814327</td>\n      <td>32.842093</td>\n      <td>32.861537</td>\n      <td>770080</td>\n      <td>0.0</td>\n      <td>1.0</td>\n    </tr>\n    <tr>\n      <th>2</th>\n      <td>2018-01-03T00:00:00.000Z</td>\n      <td>35.26</td>\n      <td>35.68</td>\n      <td>34.40</td>\n      <td>34.83</td>\n      <td>995280</td>\n      <td>34.281000</td>\n      <td>34.689339</td>\n      <td>33.444878</td>\n      <td>33.862939</td>\n      <td>995280</td>\n      <td>0.0</td>\n      <td>1.0</td>\n    </tr>\n    <tr>\n      <th>3</th>\n      <td>2018-01-04T00:00:00.000Z</td>\n      <td>34.96</td>\n      <td>35.33</td>\n      <td>34.86</td>\n      <td>35.16</td>\n      <td>666590</td>\n      <td>33.989330</td>\n      <td>34.349057</td>\n      <td>33.892106</td>\n      <td>34.183777</td>\n      <td>666590</td>\n      <td>0.0</td>\n      <td>1.0</td>\n    </tr>\n    <tr>\n      <th>4</th>\n      <td>2018-01-05T00:00:00.000Z</td>\n      <td>35.04</td>\n      <td>35.24</td>\n      <td>34.69</td>\n      <td>34.69</td>\n      <td>473460</td>\n      <td>34.067108</td>\n      <td>34.261555</td>\n      <td>33.726826</td>\n      <td>33.726826</td>\n      <td>473460</td>\n      <td>0.0</td>\n      <td>1.0</td>\n    </tr>\n    <tr>\n      <th>...</th>\n      <td>...</td>\n      <td>...</td>\n      <td>...</td>\n      <td>...</td>\n      <td>...</td>\n      <td>...</td>\n      <td>...</td>\n      <td>...</td>\n      <td>...</td>\n      <td>...</td>\n      <td>...</td>\n      <td>...</td>\n      <td>...</td>\n    </tr>\n    <tr>\n      <th>235</th>\n      <td>2018-11-26T00:00:00.000Z</td>\n      <td>25.81</td>\n      <td>26.20</td>\n      <td>25.16</td>\n      <td>25.40</td>\n      <td>682120</td>\n      <td>25.446809</td>\n      <td>25.831321</td>\n      <td>24.805956</td>\n      <td>25.042578</td>\n      <td>682120</td>\n      <td>0.0</td>\n      <td>1.0</td>\n    </tr>\n    <tr>\n      <th>236</th>\n      <td>2018-11-27T00:00:00.000Z</td>\n      <td>26.20</td>\n      <td>26.46</td>\n      <td>25.82</td>\n      <td>26.06</td>\n      <td>470680</td>\n      <td>25.831321</td>\n      <td>26.087662</td>\n      <td>25.456668</td>\n      <td>25.693291</td>\n      <td>470680</td>\n      <td>0.0</td>\n      <td>1.0</td>\n    </tr>\n    <tr>\n      <th>237</th>\n      <td>2018-11-28T00:00:00.000Z</td>\n      <td>26.39</td>\n      <td>26.80</td>\n      <td>26.00</td>\n      <td>26.32</td>\n      <td>380700</td>\n      <td>26.018647</td>\n      <td>26.422878</td>\n      <td>25.634135</td>\n      <td>25.949632</td>\n      <td>380700</td>\n      <td>0.0</td>\n      <td>1.0</td>\n    </tr>\n    <tr>\n      <th>238</th>\n      <td>2018-11-29T00:00:00.000Z</td>\n      <td>26.60</td>\n      <td>27.40</td>\n      <td>26.39</td>\n      <td>26.39</td>\n      <td>788370</td>\n      <td>26.225692</td>\n      <td>27.014435</td>\n      <td>26.018647</td>\n      <td>26.018647</td>\n      <td>788370</td>\n      <td>0.0</td>\n      <td>1.0</td>\n    </tr>\n    <tr>\n      <th>239</th>\n      <td>2018-11-30T00:00:00.000Z</td>\n      <td>26.16</td>\n      <td>26.94</td>\n      <td>25.86</td>\n      <td>26.22</td>\n      <td>583340</td>\n      <td>25.791884</td>\n      <td>26.560908</td>\n      <td>25.496105</td>\n      <td>25.851039</td>\n      <td>583340</td>\n      <td>0.0</td>\n      <td>1.0</td>\n    </tr>\n  </tbody>\n</table>\n<p>240 rows × 13 columns</p>\n</div>"
     },
     "metadata": {},
     "execution_count": 4
    }
   ],
   "source": [
    "df = pd.read_csv(\"002287.csv\", parse_dates=True, header=0)\n",
    "df"
   ]
  },
  {
   "cell_type": "code",
   "execution_count": 7,
   "metadata": {},
   "outputs": [
    {
     "output_type": "execute_result",
     "data": {
      "text/plain": "            close        high         low        open        volume  \\\ncount  240.000000  240.000000  240.000000  240.000000  2.400000e+02   \nmean    29.706375   30.184917   29.280333   29.722583  8.906588e+05   \nstd      3.348591    3.428705    3.278655    3.339583  9.351730e+05   \nmin     22.330000   22.720000   21.430000   22.320000  0.000000e+00   \n25%     27.152500   27.400000   26.990000   27.160000  4.241925e+05   \n50%     29.100000   29.430000   28.705000   29.145000  6.469600e+05   \n75%     32.405000   32.857500   31.825000   32.345000  1.069432e+06   \nmax     37.200000   38.800000   36.100000   37.600000  9.641170e+06   \n\n         adjClose     adjHigh      adjLow     adjOpen     adjVolume  \\\ncount  240.000000  240.000000  240.000000  240.000000  2.400000e+02   \nmean    29.039016   29.506512   28.622685   29.054802  8.906588e+05   \nstd      3.125547    3.199746    3.059889    3.115767  9.351730e+05   \nmin     22.015778   22.400291   21.128443   22.005919  0.000000e+00   \n25%     26.718656   27.014435   26.516541   26.740840  4.241925e+05   \n50%     28.552483   28.887699   28.083003   28.553647  6.469600e+05   \n75%     31.505270   31.945206   30.941374   31.446936  1.069432e+06   \nmax     36.167136   37.722711   35.097677   36.556030  9.641170e+06   \n\n          divCash  splitFactor  \ncount  240.000000        240.0  \nmean     0.001667          1.0  \nstd      0.025820          0.0  \nmin      0.000000          1.0  \n25%      0.000000          1.0  \n50%      0.000000          1.0  \n75%      0.000000          1.0  \nmax      0.400000          1.0  ",
      "text/html": "<div>\n<style scoped>\n    .dataframe tbody tr th:only-of-type {\n        vertical-align: middle;\n    }\n\n    .dataframe tbody tr th {\n        vertical-align: top;\n    }\n\n    .dataframe thead th {\n        text-align: right;\n    }\n</style>\n<table border=\"1\" class=\"dataframe\">\n  <thead>\n    <tr style=\"text-align: right;\">\n      <th></th>\n      <th>close</th>\n      <th>high</th>\n      <th>low</th>\n      <th>open</th>\n      <th>volume</th>\n      <th>adjClose</th>\n      <th>adjHigh</th>\n      <th>adjLow</th>\n      <th>adjOpen</th>\n      <th>adjVolume</th>\n      <th>divCash</th>\n      <th>splitFactor</th>\n    </tr>\n  </thead>\n  <tbody>\n    <tr>\n      <th>count</th>\n      <td>240.000000</td>\n      <td>240.000000</td>\n      <td>240.000000</td>\n      <td>240.000000</td>\n      <td>2.400000e+02</td>\n      <td>240.000000</td>\n      <td>240.000000</td>\n      <td>240.000000</td>\n      <td>240.000000</td>\n      <td>2.400000e+02</td>\n      <td>240.000000</td>\n      <td>240.0</td>\n    </tr>\n    <tr>\n      <th>mean</th>\n      <td>29.706375</td>\n      <td>30.184917</td>\n      <td>29.280333</td>\n      <td>29.722583</td>\n      <td>8.906588e+05</td>\n      <td>29.039016</td>\n      <td>29.506512</td>\n      <td>28.622685</td>\n      <td>29.054802</td>\n      <td>8.906588e+05</td>\n      <td>0.001667</td>\n      <td>1.0</td>\n    </tr>\n    <tr>\n      <th>std</th>\n      <td>3.348591</td>\n      <td>3.428705</td>\n      <td>3.278655</td>\n      <td>3.339583</td>\n      <td>9.351730e+05</td>\n      <td>3.125547</td>\n      <td>3.199746</td>\n      <td>3.059889</td>\n      <td>3.115767</td>\n      <td>9.351730e+05</td>\n      <td>0.025820</td>\n      <td>0.0</td>\n    </tr>\n    <tr>\n      <th>min</th>\n      <td>22.330000</td>\n      <td>22.720000</td>\n      <td>21.430000</td>\n      <td>22.320000</td>\n      <td>0.000000e+00</td>\n      <td>22.015778</td>\n      <td>22.400291</td>\n      <td>21.128443</td>\n      <td>22.005919</td>\n      <td>0.000000e+00</td>\n      <td>0.000000</td>\n      <td>1.0</td>\n    </tr>\n    <tr>\n      <th>25%</th>\n      <td>27.152500</td>\n      <td>27.400000</td>\n      <td>26.990000</td>\n      <td>27.160000</td>\n      <td>4.241925e+05</td>\n      <td>26.718656</td>\n      <td>27.014435</td>\n      <td>26.516541</td>\n      <td>26.740840</td>\n      <td>4.241925e+05</td>\n      <td>0.000000</td>\n      <td>1.0</td>\n    </tr>\n    <tr>\n      <th>50%</th>\n      <td>29.100000</td>\n      <td>29.430000</td>\n      <td>28.705000</td>\n      <td>29.145000</td>\n      <td>6.469600e+05</td>\n      <td>28.552483</td>\n      <td>28.887699</td>\n      <td>28.083003</td>\n      <td>28.553647</td>\n      <td>6.469600e+05</td>\n      <td>0.000000</td>\n      <td>1.0</td>\n    </tr>\n    <tr>\n      <th>75%</th>\n      <td>32.405000</td>\n      <td>32.857500</td>\n      <td>31.825000</td>\n      <td>32.345000</td>\n      <td>1.069432e+06</td>\n      <td>31.505270</td>\n      <td>31.945206</td>\n      <td>30.941374</td>\n      <td>31.446936</td>\n      <td>1.069432e+06</td>\n      <td>0.000000</td>\n      <td>1.0</td>\n    </tr>\n    <tr>\n      <th>max</th>\n      <td>37.200000</td>\n      <td>38.800000</td>\n      <td>36.100000</td>\n      <td>37.600000</td>\n      <td>9.641170e+06</td>\n      <td>36.167136</td>\n      <td>37.722711</td>\n      <td>35.097677</td>\n      <td>36.556030</td>\n      <td>9.641170e+06</td>\n      <td>0.400000</td>\n      <td>1.0</td>\n    </tr>\n  </tbody>\n</table>\n</div>"
     },
     "metadata": {},
     "execution_count": 7
    }
   ],
   "source": [
    "df.describe()"
   ]
  },
  {
   "cell_type": "code",
   "execution_count": 3,
   "metadata": {},
   "outputs": [
    {
     "output_type": "execute_result",
     "data": {
      "text/plain": "'c:\\\\Users\\\\anton\\\\Documents\\\\antoniouaa\\\\msc_thesis\\\\data\\\\tickers\\\\ticker_data'"
     },
     "metadata": {},
     "execution_count": 3
    }
   ],
   "source": [
    "os.chdir(\"../data/tickers/ticker_data\")\n",
    "os.getcwd()"
   ]
  },
  {
   "cell_type": "code",
   "execution_count": 9,
   "metadata": {},
   "outputs": [
    {
     "output_type": "execute_result",
     "data": {
      "text/plain": "137"
     },
     "metadata": {},
     "execution_count": 9
    }
   ],
   "source": [
    "files = [f for f in os.listdir(os.getcwd()) if os.path.isfile(os.path.join(os.getcwd(), f))]\n",
    "len(files)"
   ]
  },
  {
   "cell_type": "code",
   "execution_count": 19,
   "metadata": {},
   "outputs": [
    {
     "output_type": "stream",
     "name": "stdout",
     "text": "c:\\Users\\anton\\Documents\\antoniouaa\\msc_thesis\\data\\tickers\\ticker_data\n600145.csv\nACPS.csv\nADDLF.csv\nADXDF.csv\nAEVRX.csv\nAHBIF.csv\nAJGH.csv\nALFRY.csv\nALRGF.csv\nAQBLX.csv\nASRCF.csv\nAVDEX.csv\nBAFLX.csv\nBBBTX.csv\nBGCOX.csv\nBINFF.csv\nBSMZF.csv\nCAHTX.csv\nCCXX-U.csv\nCDVDX.csv\nCHME.csv\nCLPLF.csv\nCNF.csv\nCVMRX.csv\nDEVOY.csv\nDSTFF.csv\nDWUS.csv\nEMC.csv\nEWJV.csv\nFCAAX.csv\nFFNBX.csv\nFHDDX.csv\nGAAVX.csv\nGCAFX.csv\nGDF.csv\n"
    }
   ],
   "source": [
    "import subprocess\n",
    "print(os.getcwd())\n",
    "for f in files:\n",
    "    with open(f) as data_f:\n",
    "        if len(data_f.readlines()) < 100:\n",
    "            print(f)\n",
    "            proc = subprocess.run([\"del\", f], shell=True)\n",
    "            print(proc)"
   ]
  },
  {
   "cell_type": "code",
   "execution_count": null,
   "metadata": {},
   "outputs": [],
   "source": []
  }
 ],
 "metadata": {
  "kernelspec": {
   "display_name": "Python 3",
   "language": "python",
   "name": "python3"
  },
  "language_info": {
   "codemirror_mode": {
    "name": "ipython",
    "version": 3
   },
   "file_extension": ".py",
   "mimetype": "text/x-python",
   "name": "python",
   "nbconvert_exporter": "python",
   "pygments_lexer": "ipython3",
   "version": "3.7.6-final"
  }
 },
 "nbformat": 4,
 "nbformat_minor": 4
}