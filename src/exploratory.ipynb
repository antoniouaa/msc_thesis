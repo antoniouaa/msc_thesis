{
 "cells": [
  {
   "cell_type": "code",
   "execution_count": 99,
   "metadata": {},
   "outputs": [],
   "source": [
    "import pandas as pd\n",
    "from os import getcwd, path, listdir, chdir\n",
    "\n",
    "TICKER_PATH = \"\\data\\\\tickers\\\\ticker_data\"\n",
    "columns = [\"close\", \"high\", \"low\", \"open\", \"volume\"]\n",
    "unwanted_cols = [\"date\", \"adjClose\", \"adjHigh\", \"adjLow\", \"adjOpen\", \"adjVolume\", \"divCash\", \"splitFactor\"]"
   ]
  },
  {
   "cell_type": "code",
   "execution_count": 100,
   "metadata": {},
   "outputs": [],
   "source": [
    "def grab_all_tickers():\n",
    "    #chdir(os.path.abspath(os.path.join(TICKER_PATH)))\n",
    "    current_dir = getcwd()\n",
    "    files = [f for f in listdir(current_dir) if path.isfile(path.join(current_dir, f))]\n",
    "    return files"
   ]
  },
  {
   "cell_type": "code",
   "execution_count": 189,
   "metadata": {},
   "outputs": [],
   "source": [
    "def moving_averages(df, window=14):\n",
    "    df_ma = df.rolling(window=14).mean()[\"open\"]\n",
    "    df_std = df.rolling(window=14).std()[\"open\"]\n",
    "\n",
    "    df[\"R.Mean\"] = df_ma\n",
    "    df[\"R.std\"] = df_std\n",
    "    return df"
   ]
  },
  {
   "cell_type": "code",
   "execution_count": 190,
   "metadata": {},
   "outputs": [],
   "source": [
    "def stochastic_osc(df, window=14):\n",
    "    highest_high = df.rolling(window=14).max()[\"open\"]\n",
    "    lowest_low = df.rolling(window=14).min()[\"open\"]\n",
    "    \n",
    "    df[\"S0%k\"] = (df[\"open\"] - lowest_low) / (highest_high - lowest_low) * 100\n",
    "    return df"
   ]
  },
  {
   "cell_type": "code",
   "execution_count": 191,
   "metadata": {},
   "outputs": [],
   "source": [
    "def ema(df, window=14):\n",
    "    df[\"EMA\"] = df[\"open\"].ewm(span=window).mean()\n",
    "    return df"
   ]
  },
  {
   "cell_type": "code",
   "execution_count": 199,
   "metadata": {},
   "outputs": [],
   "source": [
    "def bollinger_bands(df, window=14):\n",
    "    ma = df[\"R.Mean\"]\n",
    "    std = df[\"R.std\"]\n",
    "    open_ = df[\"open\"]\n",
    "    band1 = 4 * std / ma\n",
    "    band2 = (open_ - ma + 2 * std) / (4 * std)\n",
    "    df[\"BolBand1\"] = band1\n",
    "    df[\"BolBand2\"] = band2\n",
    "    return df"
   ]
  },
  {
   "cell_type": "code",
   "execution_count": 200,
   "metadata": {
    "tags": [
     "outputPrepend",
     "outputPrepend"
    ]
   },
   "outputs": [],
   "source": [
    "tickers = grab_all_tickers()\n",
    "for ticker in tickers:\n",
    "    temp_df = pd.read_csv(ticker, parse_dates=True, header=0)\n",
    "    temp_df.drop(labels=unwanted_cols, axis=1, inplace=True)\n",
    "    final_df = moving_averages(temp_df)\n",
    "    final_df = stochastic_osc(final_df)\n",
    "    final_df = ema(final_df)\n",
    "    final_df = bollinger_bands(final_df)\n",
    "    final_df.to_csv(f\"_Rolling\\MA_{ticker}\", sep=\",\", index=False, header=final_df.columns)"
   ]
  },
  {
   "cell_type": "code",
   "execution_count": 203,
   "metadata": {},
   "outputs": [
    {
     "output_type": "execute_result",
     "data": {
      "text/plain": "      close    high     low    open  volume      R.Mean     R.std  BolBand1  \\\n182  107.87  107.87  106.67  106.67    1377  108.068364  1.893058  0.070069   \n183  106.61  107.12  106.61  107.12   14200  108.164079  1.800048  0.066567   \n184  106.66  106.84  104.03  105.85   18721  107.988364  1.901895  0.070448   \n185  105.00  105.00  105.00  105.00   25240  107.631936  1.964470  0.073007   \n186  104.92  104.92  104.92  104.92     328  107.269793  1.963649  0.073223   \n\n     BolBand2  \n182  0.315330  \n183  0.354993  \n184  0.218917  \n185  0.165058  \n186  0.200838  ",
      "text/html": "<div>\n<style scoped>\n    .dataframe tbody tr th:only-of-type {\n        vertical-align: middle;\n    }\n\n    .dataframe tbody tr th {\n        vertical-align: top;\n    }\n\n    .dataframe thead th {\n        text-align: right;\n    }\n</style>\n<table border=\"1\" class=\"dataframe\">\n  <thead>\n    <tr style=\"text-align: right;\">\n      <th></th>\n      <th>close</th>\n      <th>high</th>\n      <th>low</th>\n      <th>open</th>\n      <th>volume</th>\n      <th>R.Mean</th>\n      <th>R.std</th>\n      <th>BolBand1</th>\n      <th>BolBand2</th>\n    </tr>\n  </thead>\n  <tbody>\n    <tr>\n      <th>182</th>\n      <td>107.87</td>\n      <td>107.87</td>\n      <td>106.67</td>\n      <td>106.67</td>\n      <td>1377</td>\n      <td>108.068364</td>\n      <td>1.893058</td>\n      <td>0.070069</td>\n      <td>0.315330</td>\n    </tr>\n    <tr>\n      <th>183</th>\n      <td>106.61</td>\n      <td>107.12</td>\n      <td>106.61</td>\n      <td>107.12</td>\n      <td>14200</td>\n      <td>108.164079</td>\n      <td>1.800048</td>\n      <td>0.066567</td>\n      <td>0.354993</td>\n    </tr>\n    <tr>\n      <th>184</th>\n      <td>106.66</td>\n      <td>106.84</td>\n      <td>104.03</td>\n      <td>105.85</td>\n      <td>18721</td>\n      <td>107.988364</td>\n      <td>1.901895</td>\n      <td>0.070448</td>\n      <td>0.218917</td>\n    </tr>\n    <tr>\n      <th>185</th>\n      <td>105.00</td>\n      <td>105.00</td>\n      <td>105.00</td>\n      <td>105.00</td>\n      <td>25240</td>\n      <td>107.631936</td>\n      <td>1.964470</td>\n      <td>0.073007</td>\n      <td>0.165058</td>\n    </tr>\n    <tr>\n      <th>186</th>\n      <td>104.92</td>\n      <td>104.92</td>\n      <td>104.92</td>\n      <td>104.92</td>\n      <td>328</td>\n      <td>107.269793</td>\n      <td>1.963649</td>\n      <td>0.073223</td>\n      <td>0.200838</td>\n    </tr>\n  </tbody>\n</table>\n</div>"
     },
     "metadata": {},
     "execution_count": 203
    }
   ],
   "source": [
    "first = pd.read_csv(tickers[0], parse_dates=True, header=0)\n",
    "first.drop(labels=unwanted_cols, axis=1, inplace=True)\n",
    "first = moving_averages(first)\n",
    "first = bollinger_bands(first)\n",
    "first.tail()"
   ]
  },
  {
   "cell_type": "code",
   "execution_count": null,
   "metadata": {},
   "outputs": [],
   "source": []
  }
 ],
 "metadata": {
  "kernelspec": {
   "display_name": "Python 3",
   "language": "python",
   "name": "python3"
  },
  "language_info": {
   "codemirror_mode": {
    "name": "ipython",
    "version": 3
   },
   "file_extension": ".py",
   "mimetype": "text/x-python",
   "name": "python",
   "nbconvert_exporter": "python",
   "pygments_lexer": "ipython3",
   "version": "3.7.6-final"
  }
 },
 "nbformat": 4,
 "nbformat_minor": 4
}