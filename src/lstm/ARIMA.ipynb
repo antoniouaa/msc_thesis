{
 "cells": [
  {
   "cell_type": "code",
   "execution_count": 1,
   "metadata": {
    "tags": []
   },
   "outputs": [],
   "source": [
    "import numpy as np \n",
    "import pandas as pd \n",
    "import os\n",
    "import matplotlib.pyplot as plt \n",
    "from statsmodels.tsa.arima_model import ARIMA \n",
    "from sklearn.metrics import mean_squared_error, mean_absolute_error\n",
    "from sklearn.preprocessing import MinMaxScaler\n",
    "\n",
    "np.random.seed(1)\n",
    "TICKER_DIR = \"C:\\\\Users\\\\anton\\\\Documents\\\\antoniouaa\\\\msc_thesis\\\\data\\\\tickers\\\\ticker_data\"\n",
    "\n",
    "ticker = \"AMZN\"\n",
    "\n",
    "dataset = pd.read_csv(os.path.join(TICKER_DIR, f\"{ticker}.csv\"))\n",
    "dataset = dataset.dropna(how=\"any\")\n",
    "close = dataset[\"close\"].tail(1000).values\n",
    "\n",
    "sc = MinMaxScaler()\n",
    "scaled = sc.fit_transform(np.reshape(close, (-1, 1)))"
   ]
  },
  {
   "cell_type": "code",
   "execution_count": 2,
   "metadata": {
    "tags": []
   },
   "outputs": [],
   "source": [
    "def evaluate_arima(X, order):\n",
    "    size = int(len(X) * 0.8)\n",
    "    train, test = X[:size], X[size:]\n",
    "    history = [x for x in train]\n",
    "    predictions = []\n",
    "    # perform walk-forward validation\n",
    "    for t, _ in enumerate(test):\n",
    "        # fit arima model to the history of values\n",
    "        model = ARIMA(history, order=order)\n",
    "        model_fit = model.fit(disp=-1)\n",
    "        # predict the next value\n",
    "        yhat = model_fit.forecast()[0]\n",
    "        predictions.append(yhat)\n",
    "        history.append(test[t])\n",
    "\n",
    "    mse = mean_squared_error(test, predictions)\n",
    "    mae = mean_absolute_error(test, predictions)\n",
    "    return mse, mae, model"
   ]
  },
  {
   "cell_type": "code",
   "execution_count": 3,
   "metadata": {
    "tags": []
   },
   "outputs": [
    {
     "output_type": "stream",
     "name": "stdout",
     "text": "MSE: 0.0002858896879250826\nMAE: 0.012965114718674519\n"
    }
   ],
   "source": [
    "import warnings\n",
    "from statsmodels.tools.sm_exceptions import ConvergenceWarning, HessianInversionWarning\n",
    "warnings.simplefilter(\"ignore\", ConvergenceWarning)\n",
    "warnings.simplefilter(\"ignore\", HessianInversionWarning)\n",
    "\n",
    "order = (2, 2, 0)\n",
    "\n",
    "mse, mae, model = evaluate_arima(scaled, order)\n",
    "print(f\"MSE: {mse}\\nMAE: {mae}\")"
   ]
  },
  {
   "cell_type": "code",
   "execution_count": 4,
   "metadata": {},
   "outputs": [],
   "source": [
    "# with open(\"scores_arima.csv\", \"a\") as scores_file:\n",
    "#     scores_file.write(f\"{ticker},{mae},{mse}\\n\")"
   ]
  },
  {
   "cell_type": "code",
   "execution_count": 5,
   "metadata": {
    "tags": []
   },
   "outputs": [],
   "source": [
    "def evaluate_models(X, p_values, d_values, q_values):\n",
    "    scores = []\n",
    "    for p in p_values:\n",
    "        for d in d_values:\n",
    "            for q in q_values:\n",
    "                order = (p, d, q)\n",
    "                try:\n",
    "                    mse, mae, _ = evaluate_arima(X, order)\n",
    "                    scores.append((mse, order))\n",
    "                    print(f\"ARIMA ORDER: {order}\\tMSE: {mse}\\tMAE: {mae}\")\n",
    "                except:\n",
    "                    continue\n",
    "    return scores"
   ]
  },
  {
   "cell_type": "code",
   "execution_count": 6,
   "metadata": {
    "tags": []
   },
   "outputs": [
    {
     "output_type": "stream",
     "name": "stdout",
     "text": "ARIMA ORDER: (0, 0, 0)\tMSE: 0.1574234570770829\tMAE: 0.3916602208372353\nARIMA ORDER: (0, 0, 1)\tMSE: 0.041847315229036494\tMAE: 0.19795050266631378\nARIMA ORDER: (0, 1, 0)\tMSE: 0.00021723940803458497\tMAE: 0.011140579242843618\nARIMA ORDER: (0, 1, 1)\tMSE: 0.00021779801742155178\tMAE: 0.011131383653015121\nARIMA ORDER: (1, 0, 0)\tMSE: 0.000217319656074252\tMAE: 0.01118495657183967\nARIMA ORDER: (1, 0, 1)\tMSE: 0.0002178071343206536\tMAE: 0.01118151058356682\nARIMA ORDER: (1, 1, 0)\tMSE: 0.00021773913225797724\tMAE: 0.011132024411860281\nARIMA ORDER: (1, 1, 1)\tMSE: 0.00021733893027178235\tMAE: 0.011099856812265106\nARIMA ORDER: (2, 0, 0)\tMSE: 0.0002177619995626575\tMAE: 0.011181690346788153\nARIMA ORDER: (2, 0, 1)\tMSE: 0.00022017451839316068\tMAE: 0.011224561262178604\nARIMA ORDER: (2, 1, 0)\tMSE: 0.00021795551563839308\tMAE: 0.01111831960292713\nARIMA ORDER: (2, 1, 1)\tMSE: 0.08257043986333334\tMAE: 0.03146388044899173\nBEST SCORE: 0.00021723940803458497\tORDER: (0, 1, 0)\n"
    }
   ],
   "source": [
    "scores = evaluate_models(scaled, [0, 1, 2], range(2), range(2))\n",
    "best_score = sorted(scores)[0]\n",
    "print(f\"BEST SCORE: {best_score[0]}\\tORDER: {best_score[1]}\")"
   ]
  },
  {
   "cell_type": "code",
   "execution_count": null,
   "metadata": {},
   "outputs": [],
   "source": []
  }
 ],
 "metadata": {
  "language_info": {
   "codemirror_mode": {
    "name": "ipython",
    "version": 3
   },
   "file_extension": ".py",
   "mimetype": "text/x-python",
   "name": "python",
   "nbconvert_exporter": "python",
   "pygments_lexer": "ipython3",
   "version": "3.7.6-final"
  },
  "orig_nbformat": 2,
  "kernelspec": {
   "name": "python37664bitvenvvenv61f31972c6ca4ba6a42a1aafdf3b0bc0",
   "display_name": "Python 3.7.6 64-bit ('venv': venv)"
  }
 },
 "nbformat": 4,
 "nbformat_minor": 2
}