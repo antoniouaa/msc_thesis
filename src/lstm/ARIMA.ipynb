{
 "cells": [
  {
   "cell_type": "code",
   "execution_count": null,
   "metadata": {},
   "outputs": [],
   "source": [
    "import numpy as np \n",
    "import pandas as pd \n",
    "import os\n",
    "import matplotlib.pyplot as plt \n",
    "from statsmodels.tsa.arima_model import ARIMA \n",
    "from sklearn.metrics import mean_squared_error\n",
    "\n",
    "TICKER_DIR = \"C:\\\\Users\\\\anton\\\\Documents\\\\antoniouaa\\\\msc_thesis\\\\data\\\\tickers\\\\ticker_data\\\\_Rolling\"\n",
    "\n",
    "dataset = pd.read_csv(os.path.join(TICKER_DIR, \"MA_AIZP.csv\"))\n",
    "dataset = dataset.dropna(how=\"any\")\n",
    "dataset"
   ]
  },
  {
   "cell_type": "code",
   "execution_count": null,
   "metadata": {},
   "outputs": [],
   "source": [
    "import warnings\n",
    "from statsmodels.tools.sm_exceptions import ConvergenceWarning, HessianInversionWarning\n",
    "warnings.simplefilter(\"ignore\", ConvergenceWarning)\n",
    "warnings.simplefilter(\"ignore\", HessianInversionWarning)\n",
    "\n",
    "X = dataset[\"close\"].values\n",
    "scores = evaluate_models(X, [0, 1, 2, 4, 6], range(3), range(3))\n",
    "best_score = sorted(scores)[0]\n",
    "print(f\"BEST SCORE: {best_score[1]}\\tORDER: {best_score[0]}\")"
   ]
  },
  {
   "cell_type": "code",
   "execution_count": null,
   "metadata": {
    "tags": []
   },
   "outputs": [],
   "source": [
    "# Try a prediction with the optimal ARIMA parameters\n",
    "X = dataset[\"close\"].values\n",
    "model = ARIMA(X, (4, 1, 2))\n",
    "model_ = model.fit(disp=False)\n",
    "yhat = model_.forecast()[0]\n",
    "print(f\"Current Value: {X[-1]}\\nForecast: {yhat}\")"
   ]
  },
  {
   "cell_type": "code",
   "execution_count": null,
   "metadata": {
    "tags": []
   },
   "outputs": [],
   "source": [
    "# two step forecast\n",
    "forecasting = model_.forecast(steps=5)\n",
    "forecast_vals = forecasting[0]\n",
    "# reshape the arrays to have the same length\n",
    "preds = np.zeros(len(X)+len(forecast_vals))\n",
    "preds[-len(forecast_vals):] = forecast_vals\n",
    "preds[preds==0] = np.NaN\n",
    "# plot them on top of each other\n",
    "plt.plot(X)\n",
    "plt.plot(preds)"
   ]
  },
  {
   "cell_type": "code",
   "execution_count": null,
   "metadata": {
    "tags": []
   },
   "outputs": [],
   "source": [
    "test_set = pd.read_csv(os.path.join(TICKER_DIR, \"MA_BAP.csv\"))\n",
    "test_set = test_set.dropna(how=\"any\")\n",
    "test_X = test_set[\"close\"].values\n",
    "scores = evaluate_models(test_X, [0, 1, 2, 4, 6], range(3), range(3))\n",
    "best_score = sorted(scores)[0]\n",
    "print(f\"BEST SCORE: {best_score[1]}\\tORDER: {best_score[0]}\")"
   ]
  },
  {
   "cell_type": "code",
   "execution_count": 1,
   "metadata": {
    "tags": []
   },
   "outputs": [],
   "source": [
    "def evaluate_arima(X, order):\n",
    "    size = int(len(X) * 0.6)\n",
    "    train, test = X[:size], X[size:]\n",
    "    history = [x for x in train]\n",
    "    predictions = []\n",
    "    # perform walk-forward validation\n",
    "    for t in range(len(test)):\n",
    "        # fit arima model to the history of values\n",
    "        model = ARIMA(history, order=order)\n",
    "        model_fit = model.fit(disp=-1)\n",
    "        # predict the next value\n",
    "        yhat = model_fit.forecast()[0]\n",
    "        predictions.append(yhat)\n",
    "        history.append(test[t])\n",
    "\n",
    "    error = mean_squared_error(test, predictions)\n",
    "    return error"
   ]
  },
  {
   "cell_type": "code",
   "execution_count": 2,
   "metadata": {
    "tags": []
   },
   "outputs": [],
   "source": [
    "def evaluate_models(X, p_values, d_values, q_values):\n",
    "    scores = []\n",
    "    for p in p_values:\n",
    "        for d in d_values:\n",
    "            for q in q_values:\n",
    "                order = (p, d, q)\n",
    "                try:\n",
    "                    mse = evaluate_arima(X, order)\n",
    "                    scores.append((mse, order))\n",
    "                    print(f\"ARIMA ORDER: {order}\\tMSE: {mse}\")\n",
    "                except:\n",
    "                    continue\n",
    "    return scores"
   ]
  },
  {
   "cell_type": "code",
   "execution_count": 3,
   "metadata": {
    "tags": []
   },
   "outputs": [
    {
     "output_type": "execute_result",
     "data": {
      "text/plain": "array([[0.41735308],\n       [0.42277325],\n       [0.42311468],\n       ...,\n       [0.06845632],\n       [0.06773078],\n       [0.06794418]])"
     },
     "metadata": {},
     "execution_count": 3
    }
   ],
   "source": [
    "# Unify all data and normalize them to [0, 1]\n",
    "# Then perform grid search to find the optimal ARIMA hyperparameters\n",
    "\n",
    "import os\n",
    "import pandas as pd\n",
    "from sklearn.preprocessing import MinMaxScaler\n",
    "import matplotlib.pyplot as plt\n",
    "\n",
    "TICKER_DIR = \"C:\\\\Users\\\\anton\\\\Documents\\\\antoniouaa\\\\msc_thesis\\\\data\\\\tickers\\\\ticker_data\\\\_Rolling\"\n",
    "tickers = []\n",
    "os.getcwd()\n",
    "cols = [\"close\"]\n",
    "for tick in os.listdir(TICKER_DIR):\n",
    "    path = os.path.join(TICKER_DIR, tick)\n",
    "    tick_df = pd.read_csv(path, header=0, usecols=cols, squeeze=True)\n",
    "    tickers.append(tick_df)\n",
    "\n",
    "df = pd.concat(tickers)\n",
    "X = df.values.reshape(-1, 1)\n",
    "scaler = MinMaxScaler()\n",
    "scaled_df = scaler.fit_transform(X)\n",
    "scaled_df"
   ]
  },
  {
   "cell_type": "code",
   "execution_count": null,
   "metadata": {
    "tags": []
   },
   "outputs": [],
   "source": [
    "from statsmodels.tsa.arima_model import ARIMA \n",
    "from sklearn.metrics import mean_squared_error\n",
    "from statsmodels.tools.sm_exceptions import ConvergenceWarning, HessianInversionWarning\n",
    "import warnings\n",
    "\n",
    "warnings.simplefilter(\"ignore\", ConvergenceWarning)\n",
    "warnings.simplefilter(\"ignore\", HessianInversionWarning)\n",
    "\n",
    "possible_orders = ((0, 1, 2, 4, 6), (0, 1, 2), (0, 1, 2))\n",
    "scores = evaluate_models(scaled_df, [0, 1, 2, 4, 6], range(3), range(3))\n",
    "# evaluate_arima(scaled_df, (0, 1, 0))"
   ]
  },
  {
   "cell_type": "code",
   "execution_count": null,
   "metadata": {},
   "outputs": [],
   "source": []
  }
 ],
 "metadata": {
  "language_info": {
   "codemirror_mode": {
    "name": "ipython",
    "version": 3
   },
   "file_extension": ".py",
   "mimetype": "text/x-python",
   "name": "python",
   "nbconvert_exporter": "python",
   "pygments_lexer": "ipython3",
   "version": "3.7.6-final"
  },
  "orig_nbformat": 2,
  "kernelspec": {
   "name": "python37664bitvenvvenv61f31972c6ca4ba6a42a1aafdf3b0bc0",
   "display_name": "Python 3.7.6 64-bit ('venv': venv)"
  }
 },
 "nbformat": 4,
 "nbformat_minor": 2
}