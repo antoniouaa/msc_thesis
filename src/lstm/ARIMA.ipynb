{
 "cells": [
  {
   "cell_type": "code",
   "execution_count": 4,
   "metadata": {
    "tags": []
   },
   "outputs": [],
   "source": [
    "import numpy as np \n",
    "import pandas as pd \n",
    "import os\n",
    "import matplotlib.pyplot as plt \n",
    "from statsmodels.tsa.arima_model import ARIMA \n",
    "from sklearn.metrics import mean_squared_error, mean_absolute_error\n",
    "from sklearn.preprocessing import MinMaxScaler\n",
    "\n",
    "TICKER_DIR = \"C:\\\\Users\\\\anton\\\\Documents\\\\antoniouaa\\\\msc_thesis\\\\data\\\\tickers\\\\ticker_data\"\n",
    "\n",
    "ticker = \"WFC\"\n",
    "\n",
    "dataset = pd.read_csv(os.path.join(TICKER_DIR, f\"{ticker}.csv\"))\n",
    "dataset = dataset.dropna(how=\"any\")\n",
    "close = dataset[\"close\"].tail(1000).values\n",
    "\n",
    "sc = MinMaxScaler()\n",
    "scaled = sc.fit_transform(np.reshape(close, (-1, 1)))"
   ]
  },
  {
   "cell_type": "code",
   "execution_count": 5,
   "metadata": {
    "tags": []
   },
   "outputs": [],
   "source": [
    "def evaluate_arima(X, order):\n",
    "    size = int(len(X) * 0.8)\n",
    "    train, test = X[:size], X[size:]\n",
    "    history = [x for x in train]\n",
    "    predictions = []\n",
    "    # perform walk-forward validation\n",
    "    for t, _ in enumerate(test):\n",
    "        # fit arima model to the history of values\n",
    "        model = ARIMA(history, order=order)\n",
    "        model_fit = model.fit(disp=-1)\n",
    "        # predict the next value\n",
    "        yhat = model_fit.forecast()[0]\n",
    "        predictions.append(yhat)\n",
    "        history.append(test[t])\n",
    "\n",
    "    mse = mean_squared_error(test, predictions)\n",
    "    mae = mean_absolute_error(test, predictions)\n",
    "    return mse, mae, model"
   ]
  },
  {
   "cell_type": "code",
   "execution_count": 6,
   "metadata": {
    "tags": []
   },
   "outputs": [
    {
     "output_type": "stream",
     "name": "stdout",
     "text": "MSE: 0.0010332794267077677\nMAE: 0.025804764092524014\n"
    }
   ],
   "source": [
    "import warnings\n",
    "from statsmodels.tools.sm_exceptions import ConvergenceWarning, HessianInversionWarning\n",
    "warnings.simplefilter(\"ignore\", ConvergenceWarning)\n",
    "warnings.simplefilter(\"ignore\", HessianInversionWarning)\n",
    "\n",
    "order = (2, 2, 0)\n",
    "\n",
    "mse, mae, model = evaluate_arima(scaled, order)\n",
    "print(f\"MSE: {mse}\\nMAE: {mae}\")"
   ]
  },
  {
   "cell_type": "code",
   "execution_count": 7,
   "metadata": {},
   "outputs": [
    {
     "output_type": "error",
     "ename": "AttributeError",
     "evalue": "'ARIMA' object has no attribute 'summary'",
     "traceback": [
      "\u001b[1;31m---------------------------------------------------------------------------\u001b[0m",
      "\u001b[1;31mAttributeError\u001b[0m                            Traceback (most recent call last)",
      "\u001b[1;32m<ipython-input-7-5f15418b3570>\u001b[0m in \u001b[0;36m<module>\u001b[1;34m\u001b[0m\n\u001b[1;32m----> 1\u001b[1;33m \u001b[0mmodel\u001b[0m\u001b[1;33m.\u001b[0m\u001b[0msummary\u001b[0m\u001b[1;33m(\u001b[0m\u001b[1;33m)\u001b[0m\u001b[1;33m\u001b[0m\u001b[1;33m\u001b[0m\u001b[0m\n\u001b[0m",
      "\u001b[1;31mAttributeError\u001b[0m: 'ARIMA' object has no attribute 'summary'"
     ]
    }
   ],
   "source": [
    "model.summary()"
   ]
  },
  {
   "cell_type": "code",
   "execution_count": 148,
   "metadata": {},
   "outputs": [],
   "source": [
    "# with open(\"scores_arima.csv\", \"a\") as scores_file:\n",
    "#     scores_file.write(f\"{ticker},{mae},{mse}\\n\")"
   ]
  },
  {
   "cell_type": "code",
   "execution_count": 149,
   "metadata": {
    "tags": []
   },
   "outputs": [],
   "source": [
    "def evaluate_models(X, p_values, d_values, q_values):\n",
    "    scores = []\n",
    "    for p in p_values:\n",
    "        for d in d_values:\n",
    "            for q in q_values:\n",
    "                order = (p, d, q)\n",
    "                try:\n",
    "                    mse = evaluate_arima(X, order)\n",
    "                    scores.append((mse, order))\n",
    "                    print(f\"ARIMA ORDER: {order}\\tMSE: {mse}\")\n",
    "                except:\n",
    "                    continue\n",
    "    return scores"
   ]
  },
  {
   "cell_type": "code",
   "execution_count": 150,
   "metadata": {
    "tags": []
   },
   "outputs": [],
   "source": [
    "scores = evaluate_models(X, [0, 1, 2], range(2), range(2))\n",
    "best_score = sorted(scores)[0]\n",
    "print(f\"BEST SCORE: {best_score[0]}\\tORDER: {best_score[1]}\")"
   ]
  }
 ],
 "metadata": {
  "language_info": {
   "codemirror_mode": {
    "name": "ipython",
    "version": 3
   },
   "file_extension": ".py",
   "mimetype": "text/x-python",
   "name": "python",
   "nbconvert_exporter": "python",
   "pygments_lexer": "ipython3",
   "version": "3.7.6-final"
  },
  "orig_nbformat": 2,
  "kernelspec": {
   "name": "python37664bitvenvvenv61f31972c6ca4ba6a42a1aafdf3b0bc0",
   "display_name": "Python 3.7.6 64-bit ('venv': venv)"
  }
 },
 "nbformat": 4,
 "nbformat_minor": 2
}