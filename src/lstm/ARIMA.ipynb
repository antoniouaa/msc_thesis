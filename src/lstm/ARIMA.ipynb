{
 "cells": [
  {
   "cell_type": "code",
   "execution_count": 2,
   "metadata": {},
   "outputs": [
    {
     "output_type": "execute_result",
     "data": {
      "text/plain": "      close    high     low     open  volume      R.Mean     R.std  \\\n13   102.39  103.28  102.22  102.641    4451  102.100121  0.917114   \n14   103.54  105.00  103.14  103.140    5098  102.310121  0.883166   \n15   104.15  104.23  103.25  103.250    4766  102.472979  0.998456   \n16   103.00  104.40  101.28  103.460   15545  102.547979  0.995582   \n17   103.19  103.58  101.87  103.580   15521  102.682264  0.941052   \n..      ...     ...     ...      ...     ...         ...       ...   \n182  107.87  107.87  106.67  106.670    1377  108.317857  1.872786   \n183  106.61  107.12  106.61  107.120   14200  108.332857  1.857018   \n184  106.66  106.84  104.03  105.850   18721  108.095000  1.841633   \n185  105.00  105.00  105.00  105.000   25240  107.738571  1.927541   \n186  104.92  104.92  104.92  104.920     328  107.376429  1.948169   \n\n           S0%k         EMA  BolBand1  BolBand2  \n13    63.636364  102.249329  0.035930  0.579019  \n14   100.000000  102.444197  0.034529  0.848145  \n15   100.000000  102.697275  0.038974  0.919904  \n16    67.877095  102.741524  0.038834  0.613507  \n17    73.184358  102.806245  0.036659  0.634885  \n..          ...         ...       ...       ...  \n182   37.064220  107.658271  0.069159  0.440215  \n183   13.944954  107.518502  0.068567  0.268061  \n184   14.862385  107.404035  0.068149  0.305200  \n185    0.000000  107.083497  0.071564  0.144810  \n186    0.000000  106.795031  0.072573  0.184777  \n\n[174 rows x 11 columns]",
      "text/html": "<div>\n<style scoped>\n    .dataframe tbody tr th:only-of-type {\n        vertical-align: middle;\n    }\n\n    .dataframe tbody tr th {\n        vertical-align: top;\n    }\n\n    .dataframe thead th {\n        text-align: right;\n    }\n</style>\n<table border=\"1\" class=\"dataframe\">\n  <thead>\n    <tr style=\"text-align: right;\">\n      <th></th>\n      <th>close</th>\n      <th>high</th>\n      <th>low</th>\n      <th>open</th>\n      <th>volume</th>\n      <th>R.Mean</th>\n      <th>R.std</th>\n      <th>S0%k</th>\n      <th>EMA</th>\n      <th>BolBand1</th>\n      <th>BolBand2</th>\n    </tr>\n  </thead>\n  <tbody>\n    <tr>\n      <th>13</th>\n      <td>102.39</td>\n      <td>103.28</td>\n      <td>102.22</td>\n      <td>102.641</td>\n      <td>4451</td>\n      <td>102.100121</td>\n      <td>0.917114</td>\n      <td>63.636364</td>\n      <td>102.249329</td>\n      <td>0.035930</td>\n      <td>0.579019</td>\n    </tr>\n    <tr>\n      <th>14</th>\n      <td>103.54</td>\n      <td>105.00</td>\n      <td>103.14</td>\n      <td>103.140</td>\n      <td>5098</td>\n      <td>102.310121</td>\n      <td>0.883166</td>\n      <td>100.000000</td>\n      <td>102.444197</td>\n      <td>0.034529</td>\n      <td>0.848145</td>\n    </tr>\n    <tr>\n      <th>15</th>\n      <td>104.15</td>\n      <td>104.23</td>\n      <td>103.25</td>\n      <td>103.250</td>\n      <td>4766</td>\n      <td>102.472979</td>\n      <td>0.998456</td>\n      <td>100.000000</td>\n      <td>102.697275</td>\n      <td>0.038974</td>\n      <td>0.919904</td>\n    </tr>\n    <tr>\n      <th>16</th>\n      <td>103.00</td>\n      <td>104.40</td>\n      <td>101.28</td>\n      <td>103.460</td>\n      <td>15545</td>\n      <td>102.547979</td>\n      <td>0.995582</td>\n      <td>67.877095</td>\n      <td>102.741524</td>\n      <td>0.038834</td>\n      <td>0.613507</td>\n    </tr>\n    <tr>\n      <th>17</th>\n      <td>103.19</td>\n      <td>103.58</td>\n      <td>101.87</td>\n      <td>103.580</td>\n      <td>15521</td>\n      <td>102.682264</td>\n      <td>0.941052</td>\n      <td>73.184358</td>\n      <td>102.806245</td>\n      <td>0.036659</td>\n      <td>0.634885</td>\n    </tr>\n    <tr>\n      <th>...</th>\n      <td>...</td>\n      <td>...</td>\n      <td>...</td>\n      <td>...</td>\n      <td>...</td>\n      <td>...</td>\n      <td>...</td>\n      <td>...</td>\n      <td>...</td>\n      <td>...</td>\n      <td>...</td>\n    </tr>\n    <tr>\n      <th>182</th>\n      <td>107.87</td>\n      <td>107.87</td>\n      <td>106.67</td>\n      <td>106.670</td>\n      <td>1377</td>\n      <td>108.317857</td>\n      <td>1.872786</td>\n      <td>37.064220</td>\n      <td>107.658271</td>\n      <td>0.069159</td>\n      <td>0.440215</td>\n    </tr>\n    <tr>\n      <th>183</th>\n      <td>106.61</td>\n      <td>107.12</td>\n      <td>106.61</td>\n      <td>107.120</td>\n      <td>14200</td>\n      <td>108.332857</td>\n      <td>1.857018</td>\n      <td>13.944954</td>\n      <td>107.518502</td>\n      <td>0.068567</td>\n      <td>0.268061</td>\n    </tr>\n    <tr>\n      <th>184</th>\n      <td>106.66</td>\n      <td>106.84</td>\n      <td>104.03</td>\n      <td>105.850</td>\n      <td>18721</td>\n      <td>108.095000</td>\n      <td>1.841633</td>\n      <td>14.862385</td>\n      <td>107.404035</td>\n      <td>0.068149</td>\n      <td>0.305200</td>\n    </tr>\n    <tr>\n      <th>185</th>\n      <td>105.00</td>\n      <td>105.00</td>\n      <td>105.00</td>\n      <td>105.000</td>\n      <td>25240</td>\n      <td>107.738571</td>\n      <td>1.927541</td>\n      <td>0.000000</td>\n      <td>107.083497</td>\n      <td>0.071564</td>\n      <td>0.144810</td>\n    </tr>\n    <tr>\n      <th>186</th>\n      <td>104.92</td>\n      <td>104.92</td>\n      <td>104.92</td>\n      <td>104.920</td>\n      <td>328</td>\n      <td>107.376429</td>\n      <td>1.948169</td>\n      <td>0.000000</td>\n      <td>106.795031</td>\n      <td>0.072573</td>\n      <td>0.184777</td>\n    </tr>\n  </tbody>\n</table>\n<p>174 rows × 11 columns</p>\n</div>"
     },
     "metadata": {},
     "execution_count": 2
    }
   ],
   "source": [
    "import numpy as np \n",
    "import pandas as pd \n",
    "import os\n",
    "import matplotlib.pyplot as plt \n",
    "from statsmodels.tsa.arima_model import ARIMA \n",
    "from sklearn.metrics import mean_squared_error\n",
    "\n",
    "TICKER_DIR = \"C:\\\\Users\\\\anton\\\\Documents\\\\antoniouaa\\\\msc_thesis\\\\data\\\\tickers\\\\ticker_data\\\\_Rolling\"\n",
    "\n",
    "dataset = pd.read_csv(os.path.join(TICKER_DIR, \"MA_AIZP.csv\"))\n",
    "dataset = dataset.dropna(how=\"any\")\n",
    "dataset"
   ]
  },
  {
   "cell_type": "code",
   "execution_count": 3,
   "metadata": {
    "tags": []
   },
   "outputs": [],
   "source": [
    "def evaluate_arima(X, order):\n",
    "    size = int(len(X) * 0.80)\n",
    "    train, test = X[:size], X[size:]\n",
    "    history = [x for x in train]\n",
    "    predictions = []\n",
    "    # perform walk-forward validation\n",
    "    for t in range(len(test)):\n",
    "        # fit arima model to the history of values\n",
    "        model = ARIMA(history, order=order)\n",
    "        model_fit = model.fit(disp=-1)\n",
    "        # predict the next value\n",
    "        yhat = model_fit.forecast()[0]\n",
    "        predictions.append(yhat)\n",
    "        history.append(test[t])\n",
    "\n",
    "    error = mean_squared_error(test, predictions)\n",
    "    return error"
   ]
  },
  {
   "cell_type": "code",
   "execution_count": 4,
   "metadata": {
    "tags": []
   },
   "outputs": [
    {
     "output_type": "stream",
     "name": "stdout",
     "text": "ARIMA ORDER: (0, 0, 0)\tMSE: 9.253185814321762\nARIMA ORDER: (0, 0, 1)\tMSE: 5.052359900324827\nARIMA ORDER: (0, 0, 2)\tMSE: 2.8317336389919303\nARIMA ORDER: (0, 1, 0)\tMSE: 2.2077125038848706\nARIMA ORDER: (0, 1, 1)\tMSE: 2.24499498016453\nARIMA ORDER: (0, 1, 2)\tMSE: 2.266182759558908\nARIMA ORDER: (0, 2, 0)\tMSE: 4.194974995864349\nARIMA ORDER: (0, 2, 1)\tMSE: 2.21579727384832\nARIMA ORDER: (0, 2, 2)\tMSE: 2.248247997938507\nARIMA ORDER: (1, 0, 0)\tMSE: 2.134862300913606\nARIMA ORDER: (1, 0, 1)\tMSE: 2.1597995993856944\nARIMA ORDER: (1, 0, 2)\tMSE: 2.1788778836099394\nARIMA ORDER: (1, 1, 0)\tMSE: 2.238402030892013\nARIMA ORDER: (1, 1, 1)\tMSE: 2.289809346407315\nARIMA ORDER: (1, 1, 2)\tMSE: 2.313027637835031\nARIMA ORDER: (1, 2, 0)\tMSE: 3.3772314285082277\nARIMA ORDER: (1, 2, 1)\tMSE: 2.2429760475304574\nARIMA ORDER: (1, 2, 2)\tMSE: 2.161676674877183\nARIMA ORDER: (2, 0, 0)\tMSE: 2.1563821075778664\nARIMA ORDER: (2, 0, 1)\tMSE: 2.1746823226949084\nARIMA ORDER: (2, 0, 2)\tMSE: 2.1974883915114516\nARIMA ORDER: (2, 1, 0)\tMSE: 2.2724135298262373\nARIMA ORDER: (2, 1, 1)\tMSE: 2.270008912870035\nARIMA ORDER: (2, 1, 2)\tMSE: 2.197911252094578\nARIMA ORDER: (2, 2, 0)\tMSE: 3.3208795628790897\nARIMA ORDER: (2, 2, 1)\tMSE: 2.2678773485141313\nARIMA ORDER: (4, 0, 0)\tMSE: 2.22196539129855\nARIMA ORDER: (4, 0, 1)\tMSE: 2.2746112294183853\nARIMA ORDER: (4, 1, 0)\tMSE: 2.310494087992793\nARIMA ORDER: (4, 1, 1)\tMSE: 2.3133900054908065\nARIMA ORDER: (4, 1, 2)\tMSE: 2.078752879125387\nARIMA ORDER: (4, 2, 0)\tMSE: 2.9845067413289907\nARIMA ORDER: (4, 2, 1)\tMSE: 2.306147463603914\nARIMA ORDER: (4, 2, 2)\tMSE: 2.417014628216407\nARIMA ORDER: (6, 0, 0)\tMSE: 2.2468052621935377\nARIMA ORDER: (6, 0, 1)\tMSE: 2.249946841957785\nARIMA ORDER: (6, 1, 0)\tMSE: 2.2560608026392046\nARIMA ORDER: (6, 1, 1)\tMSE: 2.314992498709774\nARIMA ORDER: (6, 1, 2)\tMSE: 2.3909355609189444\nARIMA ORDER: (6, 2, 0)\tMSE: 2.7844363226201216\nARIMA ORDER: (6, 2, 1)\tMSE: 2.235001415911975\nARIMA ORDER: (6, 2, 2)\tMSE: 2.3061293407477335\n[(2.078752879125387, (4, 1, 2)), (2.134862300913606, (1, 0, 0)), (2.1563821075778664, (2, 0, 0)), (2.1597995993856944, (1, 0, 1)), (2.161676674877183, (1, 2, 2)), (2.1746823226949084, (2, 0, 1)), (2.1788778836099394, (1, 0, 2)), (2.1974883915114516, (2, 0, 2)), (2.197911252094578, (2, 1, 2)), (2.2077125038848706, (0, 1, 0)), (2.21579727384832, (0, 2, 1)), (2.22196539129855, (4, 0, 0)), (2.235001415911975, (6, 2, 1)), (2.238402030892013, (1, 1, 0)), (2.2429760475304574, (1, 2, 1)), (2.24499498016453, (0, 1, 1)), (2.2468052621935377, (6, 0, 0)), (2.248247997938507, (0, 2, 2)), (2.249946841957785, (6, 0, 1)), (2.2560608026392046, (6, 1, 0)), (2.266182759558908, (0, 1, 2)), (2.2678773485141313, (2, 2, 1)), (2.270008912870035, (2, 1, 1)), (2.2724135298262373, (2, 1, 0)), (2.2746112294183853, (4, 0, 1)), (2.289809346407315, (1, 1, 1)), (2.3061293407477335, (6, 2, 2)), (2.306147463603914, (4, 2, 1)), (2.310494087992793, (4, 1, 0)), (2.313027637835031, (1, 1, 2)), (2.3133900054908065, (4, 1, 1)), (2.314992498709774, (6, 1, 1)), (2.3909355609189444, (6, 1, 2)), (2.417014628216407, (4, 2, 2)), (2.7844363226201216, (6, 2, 0)), (2.8317336389919303, (0, 0, 2)), (2.9845067413289907, (4, 2, 0)), (3.3208795628790897, (2, 2, 0)), (3.3772314285082277, (1, 2, 0)), (4.194974995864349, (0, 2, 0)), (5.052359900324827, (0, 0, 1)), (9.253185814321762, (0, 0, 0))]\nBest ARIMA(2.078752879125387, (4, 1, 2))\n"
    }
   ],
   "source": [
    "def evaluate_models(X, p_values, d_values, q_values):\n",
    "    scores = []\n",
    "    for p in p_values:\n",
    "        for d in d_values:\n",
    "            for q in q_values:\n",
    "                order = (p, d, q)\n",
    "                try:\n",
    "                    mse = evaluate_arima(X, order)\n",
    "                    scores.append((mse, order))\n",
    "                    print(f\"ARIMA ORDER: {order}\\tMSE: {mse}\")\n",
    "                except:\n",
    "                    continue\n",
    "    return scores\n",
    "\n",
    "import warnings\n",
    "from statsmodels.tools.sm_exceptions import ConvergenceWarning, HessianInversionWarning\n",
    "warnings.simplefilter(\"ignore\", ConvergenceWarning)\n",
    "warnings.simplefilter(\"ignore\", HessianInversionWarning)\n",
    "\n",
    "X = dataset[\"close\"].values\n",
    "scores = evaluate_models(X, [0, 1, 2, 4, 6], range(3), range(3))\n",
    "best_score = sorted(scores)[0]\n",
    "print(f\"BEST SCORE: {best_score[1]}\\tORDER: {best_score[0]})"
   ]
  },
  {
   "cell_type": "code",
   "execution_count": null,
   "metadata": {},
   "outputs": [],
   "source": []
  }
 ],
 "metadata": {
  "language_info": {
   "codemirror_mode": {
    "name": "ipython",
    "version": 3
   },
   "file_extension": ".py",
   "mimetype": "text/x-python",
   "name": "python",
   "nbconvert_exporter": "python",
   "pygments_lexer": "ipython3",
   "version": "3.7.6-final"
  },
  "orig_nbformat": 2,
  "kernelspec": {
   "name": "python37664bitvenvvenv61f31972c6ca4ba6a42a1aafdf3b0bc0",
   "display_name": "Python 3.7.6 64-bit ('venv': venv)"
  }
 },
 "nbformat": 4,
 "nbformat_minor": 2
}