{
 "metadata": {
  "language_info": {
   "codemirror_mode": {
    "name": "ipython",
    "version": 3
   },
   "file_extension": ".py",
   "mimetype": "text/x-python",
   "name": "python",
   "nbconvert_exporter": "python",
   "pygments_lexer": "ipython3",
   "version": "3.7.6-final"
  },
  "orig_nbformat": 2,
  "kernelspec": {
   "name": "python_defaultSpec_1597700313368",
   "display_name": "Python 3.7.6 64-bit ('venv': venv)"
  }
 },
 "nbformat": 4,
 "nbformat_minor": 2,
 "cells": [
  {
   "cell_type": "code",
   "execution_count": 1,
   "metadata": {},
   "outputs": [],
   "source": [
    "import numpy as np \n",
    "import pandas as pd \n",
    "import os\n",
    "import matplotlib.pyplot as plt \n",
    "from statsmodels.tsa.arima_model import ARIMA \n",
    "from sklearn.metrics import mean_squared_error, mean_absolute_error\n",
    "from sklearn.preprocessing import MinMaxScaler\n",
    "\n",
    "TICKER_DIR = \"C:\\\\Users\\\\anton\\\\Documents\\\\antoniouaa\\\\msc_thesis\\\\data\\\\tickers\\\\ticker_data\"\n",
    "\n",
    "ticker = \"WFC\"\n",
    "\n",
    "dataset = pd.read_csv(os.path.join(TICKER_DIR, f\"{ticker}.csv\"))\n",
    "dataset = dataset.dropna(how=\"any\")\n",
    "close = dataset[\"close\"].tail(1000).values\n",
    "\n",
    "sc = MinMaxScaler()\n",
    "scaled = sc.fit_transform(np.reshape(close, (-1, 1)))"
   ]
  },
  {
   "cell_type": "code",
   "execution_count": 7,
   "metadata": {
    "tags": []
   },
   "outputs": [
    {
     "output_type": "stream",
     "name": "stdout",
     "text": "Iteration:      1,   Func. Count:      5,   Neg. LLF: 466.73095739669\nIteration:      2,   Func. Count:     13,   Neg. LLF: 464.3233837959787\nIteration:      3,   Func. Count:     19,   Neg. LLF: 405.43155800912075\nIteration:      4,   Func. Count:     25,   Neg. LLF: 391.04414229882946\nIteration:      5,   Func. Count:     30,   Neg. LLF: 380.9292970628335\nIteration:      6,   Func. Count:     39,   Neg. LLF: 357.1612870566681\nIteration:      7,   Func. Count:     44,   Neg. LLF: 342.5927517684698\nIteration:      8,   Func. Count:     50,   Neg. LLF: 342.58337909664533\nIteration:      9,   Func. Count:     57,   Neg. LLF: 342.4962559541564\nIteration:     10,   Func. Count:     62,   Neg. LLF: 342.49270515092974\nIteration:     11,   Func. Count:     67,   Neg. LLF: 342.48636112484814\nIteration:     12,   Func. Count:     72,   Neg. LLF: 342.47068875218554\nIteration:     13,   Func. Count:     77,   Neg. LLF: 342.451489265151\nIteration:     14,   Func. Count:     82,   Neg. LLF: 342.438157915159\nIteration:     15,   Func. Count:     87,   Neg. LLF: 342.4343645299395\nIteration:     16,   Func. Count:     92,   Neg. LLF: 342.4341460762844\nOptimization terminated successfully.    (Exit mode 0)\n            Current function value: 342.4341455170925\n            Iterations: 16\n            Function evaluations: 93\n            Gradient evaluations: 16\n"
    },
    {
     "output_type": "execute_result",
     "data": {
      "text/plain": "<arch.univariate.base.ARCHModelForecast at 0x211c16b7b88>"
     },
     "metadata": {},
     "execution_count": 7
    }
   ],
   "source": [
    "from arch import arch_model\n",
    "\n",
    "size = int(len(scaled) * 0.8)\n",
    "train, test = scaled[:size], scaled[size:]\n",
    "\n",
    "model = arch_model(train, mean=\"zero\", vol=\"GARCH\", p=2, q=0)\n",
    "model_fit = model.fit()\n",
    "yhat = model_fit.forecast(horizon=1)\n",
    "yhat"
   ]
  },
  {
   "cell_type": "code",
   "execution_count": 9,
   "metadata": {},
   "outputs": [
    {
     "output_type": "execute_result",
     "data": {
      "text/plain": "0.03815237039026355"
     },
     "metadata": {},
     "execution_count": 9
    }
   ],
   "source": [
    "np.var(scaled)"
   ]
  },
  {
   "cell_type": "code",
   "execution_count": 16,
   "metadata": {},
   "outputs": [
    {
     "output_type": "execute_result",
     "data": {
      "text/plain": "     h.1\n0    NaN\n1    NaN\n2    NaN\n3    NaN\n4    NaN\n..   ...\n795  NaN\n796  NaN\n797  NaN\n798  NaN\n799  0.0\n\n[800 rows x 1 columns]",
      "text/html": "<div>\n<style scoped>\n    .dataframe tbody tr th:only-of-type {\n        vertical-align: middle;\n    }\n\n    .dataframe tbody tr th {\n        vertical-align: top;\n    }\n\n    .dataframe thead th {\n        text-align: right;\n    }\n</style>\n<table border=\"1\" class=\"dataframe\">\n  <thead>\n    <tr style=\"text-align: right;\">\n      <th></th>\n      <th>h.1</th>\n    </tr>\n  </thead>\n  <tbody>\n    <tr>\n      <th>0</th>\n      <td>NaN</td>\n    </tr>\n    <tr>\n      <th>1</th>\n      <td>NaN</td>\n    </tr>\n    <tr>\n      <th>2</th>\n      <td>NaN</td>\n    </tr>\n    <tr>\n      <th>3</th>\n      <td>NaN</td>\n    </tr>\n    <tr>\n      <th>4</th>\n      <td>NaN</td>\n    </tr>\n    <tr>\n      <th>...</th>\n      <td>...</td>\n    </tr>\n    <tr>\n      <th>795</th>\n      <td>NaN</td>\n    </tr>\n    <tr>\n      <th>796</th>\n      <td>NaN</td>\n    </tr>\n    <tr>\n      <th>797</th>\n      <td>NaN</td>\n    </tr>\n    <tr>\n      <th>798</th>\n      <td>NaN</td>\n    </tr>\n    <tr>\n      <th>799</th>\n      <td>0.0</td>\n    </tr>\n  </tbody>\n</table>\n<p>800 rows × 1 columns</p>\n</div>"
     },
     "metadata": {},
     "execution_count": 16
    }
   ],
   "source": [
    "yhat.mean"
   ]
  },
  {
   "cell_type": "code",
   "execution_count": null,
   "metadata": {},
   "outputs": [],
   "source": []
  }
 ]
}