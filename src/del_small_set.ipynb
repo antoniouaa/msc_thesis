{
 "cells": [
  {
   "cell_type": "code",
   "execution_count": 1,
   "metadata": {},
   "outputs": [
    {
     "output_type": "execute_result",
     "data": {
      "text/plain": "'c:\\\\Users\\\\anton\\\\Documents\\\\antoniouaa\\\\msc_thesis\\\\data\\\\tickers\\\\ticker_data'"
     },
     "metadata": {},
     "execution_count": 1
    }
   ],
   "source": [
    "import os\n",
    "\n",
    "os.chdir(\"../data/tickers/ticker_data\")\n",
    "os.getcwd()"
   ]
  },
  {
   "cell_type": "code",
   "execution_count": null,
   "metadata": {},
   "outputs": [],
   "source": [
    "files = [f for f in os.listdir(os.getcwd()) if os.path.isfile(os.path.join(os.getcwd(), f))]\n",
    "len(files)"
   ]
  },
  {
   "cell_type": "code",
   "execution_count": null,
   "metadata": {},
   "outputs": [],
   "source": [
    "import subprocess\n",
    "\n",
    "with open(\"empty.txt\", \"w\") as del_f:\n",
    "    for f in files:\n",
    "        with open(f) as data_f:\n",
    "            if len(data_f.readlines()) < 100 and \".csv\" in f:\n",
    "                del_f.write(f\"{f}\\n\")\n",
    "\n",
    "subprocess.run(list(\"for /f %i in (empty.txt) do del %i\"), shell=True)"
   ]
  }
 ],
 "metadata": {
  "language_info": {
   "codemirror_mode": {
    "name": "ipython",
    "version": 3
   },
   "file_extension": ".py",
   "mimetype": "text/x-python",
   "name": "python",
   "nbconvert_exporter": "python",
   "pygments_lexer": "ipython3",
   "version": "3.7.6-final"
  },
  "orig_nbformat": 2,
  "kernelspec": {
   "name": "python37664bitvenvvenv61f31972c6ca4ba6a42a1aafdf3b0bc0",
   "display_name": "Python 3.7.6 64-bit ('venv': venv)"
  }
 },
 "nbformat": 4,
 "nbformat_minor": 2
}